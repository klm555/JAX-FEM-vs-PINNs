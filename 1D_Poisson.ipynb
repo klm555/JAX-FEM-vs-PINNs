{
 "cells": [
  {
   "cell_type": "code",
   "execution_count": null,
   "id": "27af5100",
   "metadata": {},
   "outputs": [],
   "source": [
    "# (for Google Colab)\n",
    "!pip install pyDOE"
   ]
  },
  {
   "cell_type": "code",
   "execution_count": null,
   "id": "2ffe868c",
   "metadata": {},
   "outputs": [],
   "source": [
    "import jax, flax, optax, time, pickle\n",
    "import os\n",
    "import jax.numpy as np\n",
    "import numpy as onp\n",
    "from functools import partial\n",
    "from pyDOE import lhs\n",
    "from typing import Sequence\n",
    "import json\n",
    "from tensorflow_probability.substrates import jax as tfp"
   ]
  },
  {
   "cell_type": "code",
   "execution_count": null,
   "id": "f5543116",
   "metadata": {},
   "outputs": [],
   "source": [
    "# Run on the first GPU\n",
    "os.environ['CUDA_VISIBLE_DEVICES'] = '0'\n",
    "from jax.extend.backend import get_backend\n",
    "print(get_backend().platform)"
   ]
  },
  {
   "cell_type": "markdown",
   "id": "90993946",
   "metadata": {},
   "source": [
    "# Hyperparameters"
   ]
  },
  {
   "cell_type": "code",
   "execution_count": null,
   "id": "c3d466d4",
   "metadata": {},
   "outputs": [],
   "source": [
    "architecture_list = [[1, 1], [2, 1], [5, 1], [10, 1], [20, 1], [40, 1],\n",
    "                     [5, 5, 1], [10, 10, 1], [20, 20, 1], [40, 40, 1],\n",
    "                     [5, 5, 5, 1], [10, 10, 10, 1], [20, 20, 20, 1],\n",
    "                     [40, 40, 40, 1]] # NN architecture list\n",
    "lr = 1e-4 # learning rate\n",
    "num_epochs = 15000 # number of training epochs"
   ]
  },
  {
   "cell_type": "markdown",
   "id": "af130ab8",
   "metadata": {},
   "source": [
    "# NN Architecture"
   ]
  },
  {
   "cell_type": "code",
   "execution_count": null,
   "id": "0732bf2c",
   "metadata": {},
   "outputs": [],
   "source": [
    "# Define NN architecture\n",
    "class PDESolution(flax.linen.Module): # inherit from Module class\n",
    "    features: Sequence[int] # dataclass (e.g. [10, 20, 1])\n",
    "\n",
    "    @flax.linen.compact # a decorator to define the model in more concise and readable way\n",
    "    def __call__(self, x): # __call__: makes an object callable, which enables you to use instances of the class like functions\n",
    "        for feature in features[:-1]:\n",
    "            x = flax.linen.tanh(flax.linen.Dense(feature)(x))\n",
    "        # Final Dense layer\n",
    "        x = flax.linen.Dense(features[-1])(x)\n",
    "        return x"
   ]
  },
  {
   "cell_type": "markdown",
   "id": "c00e3586",
   "metadata": {},
   "source": [
    "# Loss Function"
   ]
  },
  {
   "cell_type": "code",
   "execution_count": null,
   "id": "7622f7e9",
   "metadata": {},
   "outputs": [],
   "source": [
    "# Hessian-vector product\n",
    "# (it is more general approach than gradient, even if it doesn't make a change in this 1D problem)\n",
    "def hvp(f, primals, tangents):\n",
    "    return jax.jvp(jax.grad(lambda x: f(x)[0]), primals, tangents)[1]\n",
    "\n",
    "# PDE residual\n",
    "@partial(jax.vmap, in_axes = (None, 0), out_axes = 0)\n",
    "@partial(jax.jit, static_argnums = (0,)) # decorator closest to the function is applied first\n",
    "def residual(u, x):\n",
    "    v = np.ones(x.shape)\n",
    "    lhs = hvp(u, (x,), (v,)) # \"tangents\" arg is not optional!\n",
    "    rhs = (-6*x + 4*x**3) * np.exp(-x ** 2)\n",
    "    return lhs - rhs\n",
    "\n",
    "# Loss functionals\n",
    "@jax.jit\n",
    "def pde_residual(params, points):\n",
    "    return np.mean()"
   ]
  },
  {
   "cell_type": "markdown",
   "id": "110d74a6",
   "metadata": {},
   "source": [
    "# Training Loop"
   ]
  },
  {
   "cell_type": "code",
   "execution_count": null,
   "id": "7849d79d",
   "metadata": {},
   "outputs": [],
   "source": [
    "# Define Training Step\n",
    "@partial(jax.jit, static_argnums = (1,))\n",
    "def training_step(params, opt, opt_state, key):\n",
    "    \"\"\"\n",
    "    Args:\n",
    "        params: model parameters\n",
    "        opt: optimizer\n",
    "        opt_state: optimizer state\n",
    "        key: random key for sampling\n",
    "    \"\"\"\n",
    "    lb = onp.array(0.) # lower bound\n",
    "    ub = onp.array(1.) # upper bound\n",
    "    domain_xs = lb + (ub - lb) * lhs(1, 256) # latin hypercube sampling 256 points within [0, 1]\n",
    "    boundary_xs = lb + (ub - lb) * lhs(1, 2) # scaless the samples from [0, 1] to [lb, ub]\n",
    "\n",
    "    loss_val, grad = jax.value_and_grad(lambda params: pde_residual(params, domain_xs) +\n",
    "                                        boundary_residual0(params, boundary_xs) +\n",
    "                                        boundary_residual1(params, boundary_xs))(params)\n",
    "    update, opt_state = opt.update(grad, opt_state, params) # update using \"grad\"\n",
    "    params = optax.apply_updates(params, update) # apply updates to \"params\"\n",
    "    return params, opt_state, key, loss_val\n",
    "\n",
    "# Training loop\n",
    "def train_loop(params, adam, opt_state, key):\n",
    "    losses = []\n",
    "    for _ in range(num_epochs): # \"_\" is used because the variable is not used in for loop\n",
    "        params, opt_state, key, loss_val = training_step(params, adam, opt_state, key)\n",
    "        losses.append(loss_val.item())\n",
    "    return losses, params, opt_state, key, loss_val # return final values"
   ]
  },
  {
   "cell_type": "markdown",
   "id": "bc034fa7",
   "metadata": {},
   "source": [
    "# Helper Functions for L-BFGS Wrapper"
   ]
  },
  {
   "cell_type": "code",
   "execution_count": null,
   "id": "acddf610",
   "metadata": {},
   "outputs": [],
   "source": [
    "# L-BFGS requires the parameters to be a single flattened array!\n",
    "def concat_params(params): # flatten the parameters\n",
    "    params, tree = jax.tree_util.tree_flatten(params) # \"params\" is flattened to a list of arrays\n",
    "    # \"tree\" describes the original structure of parameters. It allows to reconstruct the original nested format later.\n",
    "    shapes = [param.shape for param in params] # shape of each array in the \"params\" list\n",
    "    return onp.concatenate([param.reshape(-1) for param in params]), tree, shapes # concat to single 1D array\n",
    "\n",
    "def unconcat_params(params, tree, shapes): # unflatten the parameters\n",
    "    split_vec = onp.split(params, onp.cumsum([onp.prod(shape) for shape in shapes])) # \"onp.cumsum\" figures out the boundaries where to split the flattened \"params\"\n",
    "    split_vec = [vec.reshape(*shape) for vec, shape in zip(split_vec, shapes)] # reshape slices of vector (\"*\" unpack the tuple into individual arguments)\n",
    "    return jax.tree_util.tree_unflatten(tree, split_vec)"
   ]
  },
  {
   "cell_type": "markdown",
   "id": "8803a110",
   "metadata": {},
   "source": [
    "# Train PINN"
   ]
  },
  {
   "cell_type": "code",
   "execution_count": null,
   "id": "07066eca",
   "metadata": {},
   "outputs": [],
   "source": [
    "# Containers for the results\n",
    "y_results, domain_pts, times_adam, times_lbfgs, times_total, times_eval, l2_rel, var, arch\\\n",
    "    = dict({}), dict({}), dict({}), dict({}), dict({}), dict({}), dict({}), dict({}), dict({})\n",
    "\n",
    "count = 0 # architecture index\n",
    "for architecture in architecture_list:\n",
    "    times_adam_temp = [] # containers for 10 times training results\n",
    "    times_lbfgs_temp = []\n",
    "    times_total_temp = []\n",
    "    times_eval_temp = []\n",
    "    accuracy_temp = []\n",
    "    for _ in range(10): # loop over 10 training runs\n",
    "        # Initialize Model\n",
    "        model = PDESolution(architecture)\n",
    "        key, key2 = jax.random.split(jax.random.PRNGKey(0)) # create two keys for independent use\n",
    "        batch_dim = 8 # it is just for parameter initialization (can be any value)\n",
    "        feature_dim = 1 # dimension of input point (x coord)\n",
    "        params = model.init(key, np.ones((batch_dim, feature_dim))) # params(dict) : weights and biases initialized randomly\n",
    "\n",
    "        # Initialize Optimizer\n",
    "        adam = optax.adam(learning_rate = lr) #\n",
    "        opt_state = adam.init(params) # opt_state : internal states of the Adam optimizer\n",
    "\n",
    "        # Start Training with Adam Optimizer\n",
    "        start_time = time.time()\n",
    "        losses, params, opt_state, key, loss_val = jax.block_until_ready(train_loop(params, adam, opt_state, key))\n",
    "        adam_time = time.time() - start_time\n",
    "        times_adam_temp.append(adam_time)\n",
    "        print('Adam Training Time : %f secs' %adam_time)\n",
    "\n",
    "        # Generate data\n",
    "        lb = onp.array(0.)\n",
    "        ub = onp.array(1.)\n",
    "        domain_xs = lb + (ub - lb) * lhs(1, 256)\n",
    "        boundary_xs = lb + (ub - lb) * lhs(1, 2)\n",
    "\n",
    "        init_point, tree, shapes = concat_params(params)\n",
    "\n",
    "        # L-BFGS Optimization\n",
    "        print('Starting L-BFGS Optimization')\n",
    "        start_time2 = time.time()\n",
    "        results = tfp.optimizer.lbfgs_minimize(jax.value_and_grad(lambda params: \n",
    "                                                                  pde_residual(unconcat_params(params, tree, shapes), domain_xs) + \n",
    "                                                                  boundary_residual0(unconcat_params(params, tree, shapes), boundary_xs) +\n",
    "                                                                  boundary_residual1(unconcat_params(params, tree, shapes), boundary_xs)), \n",
    "                                               init_point, max_iterations = 50000, \n",
    "                                               num_correction_pairs = 50, # number of past updates to use for the approximation of the Hessian inverse.\n",
    "                                               f_relative_tolerance = 1.0*onp.finfo(float).eps) # stopping criterion\n",
    "        lbfgs_time = time.time() - start_time2\n",
    "        times_lbfgs_temp.append(lbfgs_time)\n",
    "        times_total_temp.append(adam_time + lbfgs_time)\n",
    "\n",
    "        # Comparison to Ground Truth\n",
    "        tuned_params = unconcat_params(results.position, tree, shapes)\n",
    "\n",
    "        with open('1D_Poisson_eval_points.json', 'r') as f:\n",
    "            domain_points = json.load(f) # pre-specified evaluation points (different from training points) for measuring error.\n",
    "            domain_points = np.array(domain_points)\n",
    "\n",
    "        start_time3 = time.time()\n",
    "        u_approx = jax.block_until_ready(model.apply(tuned_params, domain_points).squeeze()) # pass the \"domain_points\" to the trained model\n",
    "        eval_time = time.time() - start_time3\n",
    "        times_eval_temp.append(eval_time)\n",
    "\n",
    "        u_true = (domain_points * np.exp(-domain_points**2)).squeeze() # ground truth\n",
    "        run_accuracy = (onp.linalg.norm(u_approx - u_true)) / onp.linalg.norm(u_true) # relative L2 error\n",
    "        accuracy_temp.append(run_accuracy)\n",
    "\n",
    "y_gt = u_true.tolist() # for storing into dict\n",
    "y_result[count] = u_approx.to_list()\n",
    "domain_pts[count] = domain_points.tolist()\n",
    "times_adam[count] = onp.mean(times_adam_tep) # mean times across the 10 runs\n",
    "times_lbfgs[count] = onp.mean(times_lbfgs_temp)\n",
    "times_total[count] = onp.mean(times_total_temp)\n",
    "times_eval[count] = onp.mean(times_eval_temp)\n",
    "l2_rel[count] = onp.mean(accuracy_temp).tolist()\n",
    "var[count] = onp.var(accuracy_temp).tolist() # variance of the error across the 10 runs\n",
    "arch[count] = architecture_list[count]\n",
    "count += 1\n",
    "\n",
    "results = dict({'domain_pts': domain_pts,\n",
    "                'y_results': y_results,\n",
    "                'y_gt': y_gt})\n",
    "\n",
    "evaluation = dict({'arch': arch, \n",
    "                   'times_adam': times_adam, \n",
    "                   'times_lbfgs': times_lbfgs,\n",
    "                   'times_total': times_total,\n",
    "                   'times_eval': times_eval,\n",
    "                   'l2_rel': l2_rel, \n",
    "                   'var': var}) "
   ]
  },
  {
   "cell_type": "markdown",
   "id": "d0782a5e",
   "metadata": {},
   "source": [
    "# Save Results & Evaluation"
   ]
  },
  {
   "cell_type": "code",
   "execution_count": null,
   "id": "d418b923",
   "metadata": {},
   "outputs": [],
   "source": [
    "save_dir = './1D_Poisson'\n",
    "os.makedirs(save_dir, exist_ok = True)\n",
    "\n",
    "with open(os.path.join(save_dir, 'PINNs_results.json'), 'w') as f:\n",
    "    json.dump(results, f)\n",
    "\n",
    "with open(os.path.join(save_dir, 'PINNs_evaluation.json'), 'w') as f:\n",
    "    json.dump(evaluation, f)\n",
    "\n",
    "print(json.dumps(evaluation, indent = 4))"
   ]
  }
 ],
 "metadata": {
  "kernelspec": {
   "display_name": "jax-fem-pinns",
   "language": "python",
   "name": "python3"
  },
  "language_info": {
   "name": "python",
   "version": "3.9.18"
  }
 },
 "nbformat": 4,
 "nbformat_minor": 5
}
