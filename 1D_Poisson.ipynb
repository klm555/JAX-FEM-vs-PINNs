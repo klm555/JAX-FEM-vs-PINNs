{
 "cells": [
  {
   "cell_type": "code",
   "execution_count": null,
   "id": "27af5100",
   "metadata": {},
   "outputs": [],
   "source": [
    "!pip install pyDOE"
   ]
  },
  {
   "cell_type": "code",
   "execution_count": null,
   "id": "2ffe868c",
   "metadata": {},
   "outputs": [],
   "source": [
    "import jax, flax, optax, time, pickle\n",
    "import os\n",
    "import jax.numpy as np\n",
    "import numpy as onp\n",
    "from functools import partial\n",
    "from pyDOE import lhs\n",
    "from typing import Sequence\n",
    "import json\n",
    "from tensorflow_probability.substrates import jax as tfp"
   ]
  },
  {
   "cell_type": "code",
   "execution_count": null,
   "id": "f5543116",
   "metadata": {},
   "outputs": [],
   "source": [
    "# Run on the first GPU\n",
    "os.environ['CUDA_VISIBLE_DEVICES'] = '0'\n",
    "from jax.extend.backend import get_backend\n",
    "print(get_backend().platform)"
   ]
  },
  {
   "cell_type": "code",
   "execution_count": null,
   "id": "c3d466d4",
   "metadata": {},
   "outputs": [],
   "source": [
    "# Hyperparameters\n",
    "architecture_list = [[1, 1], [2, 1], [5, 1], [10, 1], [20, 1], [40, 1],\n",
    "                     [5, 5, 1], [10, 10, 1], [20, 20, 1], [40, 40, 1],\n",
    "                     [5, 5, 5, 1], [10, 10, 10, 1], [20, 20, 20, 1],\n",
    "                     [40, 40, 40, 1]] # NN architecture list\n",
    "lr = 1e-4 # learning rate\n",
    "num_epochs = 15000 # number of training epochs"
   ]
  },
  {
   "cell_type": "code",
   "execution_count": null,
   "id": "0732bf2c",
   "metadata": {},
   "outputs": [],
   "source": [
    "# Define NN architecture\n",
    "class PDESolution(flax.linen.Module): # inherit from Module class\n",
    "    features: Sequence[int] # dataclass (e.g. [10, 20, 1])\n",
    "\n",
    "    @flax.linen.compact # a decorator to define the model in more concise and readable way\n",
    "    def __call__(self, x): # __call__: makes an object callable, which enables you to use instances of the class like functions\n",
    "        for feature in features[:-1]:\n",
    "            x = flax.linen.tanh(flax.linen.Dense(feature)(x))\n",
    "        # Final Dense layer\n",
    "        x = flax.linen.Dense(features[-1])(x)"
   ]
  }
 ],
 "metadata": {
  "kernelspec": {
   "display_name": "jax-fem-pinns",
   "language": "python",
   "name": "python3"
  },
  "language_info": {
   "name": "python",
   "version": "3.9.18"
  }
 },
 "nbformat": 4,
 "nbformat_minor": 5
}
