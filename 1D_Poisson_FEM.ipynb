{
 "cells": [
  {
   "cell_type": "code",
   "execution_count": null,
   "id": "42e07455",
   "metadata": {},
   "outputs": [],
   "source": [
    "# -----------------------------------------------------------------------------\n",
    "# Portions of this code are adapted from:\n",
    "#   - https://github.com/TamaraGrossmann/FEM-vs-PINNs.git\n",
    "#   - Grossmann, T. G., Komorowska, U. J., Latz, J., & Schönlieb, C.-B. (2023).\n",
    "#     Can Physics-Informed Neural Networks beat the Finite Element Method?\n",
    "#     arXiv:2302.04107.\n",
    "# -----------------------------------------------------------------------------"
   ]
  },
  {
   "cell_type": "code",
   "execution_count": null,
   "id": "500c641d",
   "metadata": {},
   "outputs": [],
   "source": [
    "try:\n",
    "    import dolfin\n",
    "except ImportError:\n",
    "    !wget \"https://fem-on-colab.github.io/releases/fenics-install-release-real.sh\" -O \"/tmp/fenics-install.sh\" && bash \"/tmp/fenics-install.sh\"\n",
    "    import dolfin\n",
    "\n",
    "# !pip install fenics # for local machine"
   ]
  },
  {
   "cell_type": "code",
   "execution_count": null,
   "id": "417e2d5e",
   "metadata": {},
   "outputs": [],
   "source": [
    "import json\n",
    "import os\n",
    "import time\n",
    "from dolfin import *\n",
    "# from fenics import * # for local machine\n",
    "import numpy as np\n",
    "from __future__ import print_function"
   ]
  },
  {
   "cell_type": "markdown",
   "id": "2d7dd508",
   "metadata": {},
   "source": [
    "# Evaluation Points & Number of Meshes"
   ]
  },
  {
   "cell_type": "code",
   "execution_count": null,
   "id": "dbd5d2d6",
   "metadata": {},
   "outputs": [],
   "source": [
    "with open('1D_Poisson_eval_points.json', 'r') as f:\n",
    "    domain_points = json.load(f)\n",
    "    domain_points = np.array(domain_points)\n",
    "\n",
    "# Number of Meshes\n",
    "mesh_nums = [64, 128, 256, 512, 1024, 2048, 4096]"
   ]
  },
  {
   "cell_type": "markdown",
   "id": "e047b26b",
   "metadata": {},
   "source": [
    "# Exact Solution"
   ]
  },
  {
   "cell_type": "code",
   "execution_count": null,
   "id": "86585ccd",
   "metadata": {},
   "outputs": [],
   "source": [
    "def u_e(x):\n",
    "    return x * np.exp(-x * x)"
   ]
  },
  {
   "cell_type": "markdown",
   "id": "f85f979c",
   "metadata": {},
   "source": [
    "# Boundary Conditions"
   ]
  },
  {
   "cell_type": "code",
   "execution_count": null,
   "id": "0bf66900",
   "metadata": {},
   "outputs": [],
   "source": [
    "def left(point):\n",
    "    return np.isclose(point[0], 0., atol=1e-5)\n",
    "\n",
    "def right(point):\n",
    "    return np.isclose(point[0], 1., atol=1e-5)\n",
    "\n",
    "\n",
    "def boundary_R(x, on_boundary):\n",
    "    return on_boundary and np.isclose(x[0], 1)\n",
    "\n",
    "def boundary_L(x, on_boundary):\n",
    "    return on_boundary and np.isclose(x[0], 0)\n",
    "\n",
    "# Boundary values\n",
    "u_L = Expression('0', degree = 1) # symbolic expression (C++ style)\n",
    "u_R = Expression('exp(-1)', degree = 1) # degree : degree of the polynomial approximation"
   ]
  },
  {
   "cell_type": "markdown",
   "id": "243f1edb",
   "metadata": {},
   "source": [
    "# Approximate Solution"
   ]
  },
  {
   "cell_type": "code",
   "execution_count": null,
   "id": "c6115397",
   "metadata": {},
   "outputs": [],
   "source": [
    "# Containers for the results\n",
    "y_results, times_solve, times_eval, l2_rel\\\n",
    "    = dict({}), dict({}), dict({}), dict({})\n",
    "\n",
    "n = 0\n",
    "for mesh_num in mesh_nums:\n",
    "    # Mesh\n",
    "    mesh = IntervalMesh(int(mesh_num), 0, 1) # creates \"mesh_num\" elements in the interval [0, 1]\n",
    "\n",
    "    ele_type = 'QUAD4'\n",
    "    cell_type = get_meshio_cell_type(ele_type)\n",
    "    Lx, Ly = 1., 1.\n",
    "    meshio_mesh = rectangle_mesh(Nx=32, Ny=32, domain_x=Lx, domain_y=Ly)\n",
    "    mesh = Mesh(meshio_mesh.points, meshio_mesh.cells_dict[cell_type])\n",
    "\n",
    "    # Function space\n",
    "    V = FunctionSpace(mesh, 'CG', 1) # Initialize function space\n",
    "    # Continuous Galerkin(CG) finite element space of degree 1\n",
    "\n",
    "    # Dirichlet BC\n",
    "    bc_L = DirichletBC(V, u_L, boundary_L) # u = \"u_L\" at x = \"boundary_L\"\n",
    "    bc_R = DirichletBC(V, u_R, boundary_R) # Dirichlet BC on the function space V\n",
    "    bcs = [bc_L, bc_R]\n",
    "\n",
    "    # Trial and test functions\n",
    "    u = TrialFunction(V) # it is just a symbolic variable to build the linear system\n",
    "    v = TestFunction(V)\n",
    "\n",
    "    # Force term\n",
    "    f = Expression('6 * x[0] * exp(-x[0]*x[0]) - 4 * (x[0]*x[0]*x[0]) * exp(-x[0]*x[0])', degree = 1)\n",
    "\n",
    "    # Weak form\n",
    "    R = dot(grad(u), grad(v)) * dx - f * v * dx\n",
    "    a = lhs(R) # helper function to get the matrix(operator multiplied to \"u\") part of weak form\n",
    "    F = rhs(R) # helper function to get the vector(load) part of weak form\n",
    "\n",
    "    u = Function(V) # it is a variable to store actual numerical solution\n",
    "\n",
    "    time_solving = []\n",
    "    time_evaluation = []\n",
    "    for i in range(0, 10):\n",
    "        # Solve\n",
    "        start_time = time.time()\n",
    "        solve(a == F, u, bcs, solver_parameters={'linear_solver': 'cg', 'preconditioner': 'ilu'}) # solves for the unknown \"u\"\n",
    "        solve_time = time.time()\n",
    "        time_solving.append(solve_time - start_time)\n",
    "\n",
    "        # Evaluate\n",
    "        start_time = time.time()\n",
    "        u_approx = [u(point) for point in domain_points]\n",
    "        eval_time = time.time()\n",
    "        time_evaluation.append(eval_time - solve_time)\n",
    "        u_approx = np.array(u_approx)\n",
    "\n",
    "    # Comparison to Ground Truth\n",
    "    u_true = np.array([u_e(point) for point in domain_points]).squeeze()\n",
    "    l2 = np.linalg.norm(u_approx - u_true)\n",
    "    l2_rel_single = l2 / np.linalg.norm(u_true)\n",
    "\n",
    "    print('Average Solution Time : ', np.mean(time_solving))\n",
    "    print('Average Evaluation Time : ', np.mean(time_evaluation))\n",
    "    print('Average Accuracy on a Random Testset of 512 Points : ', l2_rel_single)\n",
    "\n",
    "    y_results[mesh_num] = u_approx.tolist() # dict with key \"mesh_num\"\n",
    "    times_solve[mesh_num] = np.mean(time_solving)\n",
    "    times_eval[mesh_num] = np.mean(time_evaluation)\n",
    "    l2_rel[mesh_num] = l2_rel_single\n",
    "\n",
    "    results = dict({'y_results': y_results,\n",
    "                    'times_solve': times_solve,\n",
    "                    'times_eval': times_eval,\n",
    "                    'l2_rel': l2_rel})\n",
    "\n",
    "# Save Results & Evaluation\n",
    "save_dir = './1D_Poisson'\n",
    "os.makedirs(save_dir, exist_ok = True)\n",
    "\n",
    "with open(os.path.join(save_dir,'FEM_results.json'), \"w\") as f:\n",
    "    json.dump(results, f)"
   ]
  }
 ],
 "metadata": {
  "kernelspec": {
   "display_name": "jax-fem-pinns",
   "language": "python",
   "name": "python3"
  },
  "language_info": {
   "codemirror_mode": {
    "name": "ipython",
    "version": 3
   },
   "file_extension": ".py",
   "mimetype": "text/x-python",
   "name": "python",
   "nbconvert_exporter": "python",
   "pygments_lexer": "ipython3",
   "version": "3.9.18"
  }
 },
 "nbformat": 4,
 "nbformat_minor": 5
}
